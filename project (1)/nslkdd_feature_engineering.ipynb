{
 "cells": [
  {
   "cell_type": "code",
   "execution_count": 1,
   "id": "d3aed24d",
   "metadata": {},
   "outputs": [],
   "source": [
    "import os\n",
    "\n",
    "import pandas as pd\n",
    "from sklearn.model_selection import train_test_split\n",
    "from sklearn import preprocessing"
   ]
  },
  {
   "cell_type": "code",
   "execution_count": 2,
   "id": "b62edff9",
   "metadata": {},
   "outputs": [],
   "source": [
    "DATA_DIR = '../data'\n",
    "FILE_PATH_TRAIN = os.path.join(DATA_DIR, 'raw/KDDTrain+_20Percent.csv')\n",
    "FILE_PATH_TEST = os.path.join(DATA_DIR, 'raw/KDDTest-21.csv')"
   ]
  },
  {
   "cell_type": "code",
   "execution_count": 3,
   "id": "37d9c243",
   "metadata": {},
   "outputs": [],
   "source": [
    "df_train = pd.read_csv(FILE_PATH_TRAIN, header=None, skiprows=[0])\n",
    "df_test = pd.read_csv(FILE_PATH_TEST, header=None, skiprows=[0])"
   ]
  },
  {
   "cell_type": "code",
   "execution_count": 4,
   "id": "9677d8af",
   "metadata": {},
   "outputs": [],
   "source": [
    "# Reset column names for training set\n",
    "df_train.columns = ['duration', 'protocol_type', 'service', 'flag', 'src_bytes', 'dst_bytes', 'land', 'wrong_fragment',\n",
    "                    'urgent', 'hot',\n",
    "                    'num_failed_logins', 'logged_in', 'num_compromised', 'root_shell',\n",
    "                    'su_attempted', 'num_root', 'num_file_creations', 'num_shells',\n",
    "                    'num_access_files', 'num_outbound_cmds', 'is_host_login',\n",
    "                    'is_guest_login', 'count', 'srv_count', 'serror_rate',\n",
    "                    'srv_serror_rate', 'rerror_rate', 'srv_rerror_rate', 'same_srv_rate',\n",
    "                    'diff_srv_rate', 'srv_diff_host_rate', 'dst_host_count',\n",
    "                    'dst_host_srv_count', 'dst_host_same_srv_rate', 'dst_host_diff_srv_rate',\n",
    "                    'dst_host_same_src_port_rate',\n",
    "                    'dst_host_srv_diff_host_rate', 'dst_host_serror_rate',\n",
    "                    'dst_host_srv_serror_rate', 'dst_host_rerror_rate',\n",
    "                    'dst_host_srv_rerror_rate', 'subclass', 'difficulty_level']\n",
    "\n",
    "# Reset column names for testing set\n",
    "df_test.columns = ['duration', 'protocol_type', 'service', 'flag', 'src_bytes',\n",
    "                   'dst_bytes', 'land', 'wrong_fragment', 'urgent', 'hot',\n",
    "                   'num_failed_logins', 'logged_in', 'num_compromised', 'root_shell',\n",
    "                   'su_attempted', 'num_root', 'num_file_creations', 'num_shells',\n",
    "                   'num_access_files', 'num_outbound_cmds', 'is_host_login',\n",
    "                   'is_guest_login', 'count', 'srv_count', 'serror_rate',\n",
    "                   'srv_serror_rate', 'rerror_rate', 'srv_rerror_rate', 'same_srv_rate',\n",
    "                   'diff_srv_rate', 'srv_diff_host_rate', 'dst_host_count',\n",
    "                   'dst_host_srv_count', 'dst_host_same_srv_rate', 'dst_host_diff_srv_rate',\n",
    "                   'dst_host_same_src_port_rate',\n",
    "                   'dst_host_srv_diff_host_rate', 'dst_host_serror_rate',\n",
    "                   'dst_host_srv_serror_rate', 'dst_host_rerror_rate',\n",
    "                   'dst_host_srv_rerror_rate', 'subclass', 'difficulty_level']"
   ]
  },
  {
   "cell_type": "code",
   "execution_count": 5,
   "id": "d634dbf2",
   "metadata": {},
   "outputs": [],
   "source": [
    "# accessing names of training columns\n",
    "lst_names = df_train.columns  # returns a list of column names\n",
    "testlst_names = df_test.columns"
   ]
  },
  {
   "cell_type": "code",
   "execution_count": 6,
   "id": "383b84e6",
   "metadata": {},
   "outputs": [
    {
     "name": "stderr",
     "output_type": "stream",
     "text": [
      "/tmp/ipykernel_30662/2288646923.py:2: FutureWarning: In a future version of pandas all arguments of DataFrame.drop except for the argument 'labels' will be keyword-only.\n",
      "  df_train = df_train.drop('difficulty_level', 1)  # we don't need it in this project\n",
      "/tmp/ipykernel_30662/2288646923.py:5: FutureWarning: In a future version of pandas all arguments of DataFrame.drop except for the argument 'labels' will be keyword-only.\n",
      "  df_test = df_test.drop('difficulty_level', 1)\n"
     ]
    }
   ],
   "source": [
    "# Dropping the last columns of training set\n",
    "df_train = df_train.drop('difficulty_level', 1)  # we don't need it in this project\n",
    "\n",
    "# Dropping the last columns of testing set\n",
    "df_test = df_test.drop('difficulty_level', 1)"
   ]
  },
  {
   "cell_type": "code",
   "execution_count": 7,
   "id": "3420cc41",
   "metadata": {},
   "outputs": [
    {
     "data": {
      "text/plain": [
       "False"
      ]
     },
     "execution_count": 7,
     "metadata": {},
     "output_type": "execute_result"
    }
   ],
   "source": [
    "df_train.isnull().values.any()\n",
    "df_test.isnull().values.any()"
   ]
  },
  {
   "cell_type": "code",
   "execution_count": 8,
   "id": "13819b69",
   "metadata": {},
   "outputs": [],
   "source": [
    "# defining col list\n",
    "cols = ['protocol_type', 'service', 'flag']"
   ]
  },
  {
   "cell_type": "code",
   "execution_count": 9,
   "id": "7fbcecf4",
   "metadata": {},
   "outputs": [],
   "source": [
    "# One-hot encoding\n",
    "def one_hot(df, cols):\n",
    "    \"\"\"\n",
    "    @param df pandas DataFrame\n",
    "    @param cols a list of columns to encode\n",
    "    @return a DataFrame with one-hot encoding\n",
    "    \"\"\"\n",
    "    for each in cols:\n",
    "        dummies = pd.get_dummies(df[each], prefix=each, drop_first=False)\n",
    "        df = pd.concat([df, dummies], axis=1)\n",
    "        df = df.drop(each, 1)\n",
    "    return df"
   ]
  },
  {
   "cell_type": "code",
   "execution_count": 10,
   "id": "7ca032c8",
   "metadata": {},
   "outputs": [
    {
     "name": "stderr",
     "output_type": "stream",
     "text": [
      "/tmp/ipykernel_30662/360154003.py:11: FutureWarning: In a future version of pandas all arguments of DataFrame.drop except for the argument 'labels' will be keyword-only.\n",
      "  df = df.drop(each, 1)\n",
      "/tmp/ipykernel_30662/360154003.py:11: FutureWarning: In a future version of pandas all arguments of DataFrame.drop except for the argument 'labels' will be keyword-only.\n",
      "  df = df.drop(each, 1)\n",
      "/tmp/ipykernel_30662/360154003.py:11: FutureWarning: In a future version of pandas all arguments of DataFrame.drop except for the argument 'labels' will be keyword-only.\n",
      "  df = df.drop(each, 1)\n",
      "/tmp/ipykernel_30662/360154003.py:11: FutureWarning: In a future version of pandas all arguments of DataFrame.drop except for the argument 'labels' will be keyword-only.\n",
      "  df = df.drop(each, 1)\n",
      "/tmp/ipykernel_30662/360154003.py:11: FutureWarning: In a future version of pandas all arguments of DataFrame.drop except for the argument 'labels' will be keyword-only.\n",
      "  df = df.drop(each, 1)\n",
      "/tmp/ipykernel_30662/360154003.py:11: FutureWarning: In a future version of pandas all arguments of DataFrame.drop except for the argument 'labels' will be keyword-only.\n",
      "  df = df.drop(each, 1)\n"
     ]
    }
   ],
   "source": [
    "# Merging train and test data\n",
    "#combined_data = pd.concat([df_train, df_test])\n",
    "\n",
    "# Applying one hot encoding to combined data\n",
    "df_train = one_hot(df_train, cols)\n",
    "df_test = one_hot(df_test, cols)"
   ]
  },
  {
   "cell_type": "code",
   "execution_count": 11,
   "id": "8db9b8ab",
   "metadata": {},
   "outputs": [],
   "source": [
    "# Liran: use sklearn function\n",
    "\n",
    "# Function to min-max normalize\n",
    "def normalize(df, cols):\n",
    "    \"\"\"\n",
    "    @param df pandas DataFrame\n",
    "    @param cols a list of columns to encode\n",
    "    @return a DataFrame with normalized specified features\n",
    "    \"\"\"\n",
    "    result = df.copy()  # do not touch the original df\n",
    "    for feature_name in ['src_bytes']:\n",
    "        try:\n",
    "            max_value = df[feature_name].max()\n",
    "            min_value = df[feature_name].min()\n",
    "\n",
    "            if max_value > min_value:\n",
    "                result[feature_name] = (df[feature_name] - min_value) / (max_value - min_value)\n",
    "        except Exception as ex:\n",
    "            print(feature_name)\n",
    "            print(ex)\n",
    "    return result"
   ]
  },
  {
   "cell_type": "code",
   "execution_count": 12,
   "id": "9126ea25",
   "metadata": {},
   "outputs": [
    {
     "ename": "NameError",
     "evalue": "name 'combined_data' is not defined",
     "output_type": "error",
     "traceback": [
      "\u001b[0;31m---------------------------------------------------------------------------\u001b[0m",
      "\u001b[0;31mNameError\u001b[0m                                 Traceback (most recent call last)",
      "Cell \u001b[0;32mIn[12], line 2\u001b[0m\n\u001b[1;32m      1\u001b[0m \u001b[38;5;66;03m# Dropping subclass column for training set\u001b[39;00m\n\u001b[0;32m----> 2\u001b[0m tmp \u001b[38;5;241m=\u001b[39m \u001b[43mcombined_data\u001b[49m\u001b[38;5;241m.\u001b[39mpop(\u001b[38;5;124m'\u001b[39m\u001b[38;5;124msubclass\u001b[39m\u001b[38;5;124m'\u001b[39m)\n\u001b[1;32m      4\u001b[0m \u001b[38;5;66;03m# Normalizing training set\u001b[39;00m\n\u001b[1;32m      5\u001b[0m new_train_df \u001b[38;5;241m=\u001b[39m normalize(combined_data, combined_data\u001b[38;5;241m.\u001b[39mcolumns)\n",
      "\u001b[0;31mNameError\u001b[0m: name 'combined_data' is not defined"
     ]
    }
   ],
   "source": [
    "# Dropping subclass column for training set\n",
    "tmp = combined_data.pop('subclass')\n",
    "\n",
    "# Normalizing training set\n",
    "new_train_df = normalize(combined_data, combined_data.columns)"
   ]
  },
  {
   "cell_type": "code",
   "execution_count": 13,
   "id": "321c302b",
   "metadata": {},
   "outputs": [],
   "source": [
    "# Fixing labels for training set\n",
    "classlist = []\n",
    "check1 = (\n",
    "    \"apache2\", \"back\", \"land\", \"neptune\", \"mailbomb\", \"pod\", \"processtable\", \"smurf\", \"teardrop\", \"udpstorm\", \"worm\")\n",
    "check2 = (\"ipsweep\", \"mscan\", \"nmap\", \"portsweep\", \"saint\", \"satan\")\n",
    "check3 = (\"buffer_overflow\", \"loadmodule\", \"perl\", \"ps\", \"rootkit\", \"sqlattack\", \"xterm\")\n",
    "check4 = (\n",
    "    \"ftp_write\", \"guess_passwd\", \"httptunnel\", \"imap\", \"multihop\", \"named\", \"phf\", \"sendmail\", \"Snmpgetattack\", \"spy\",\n",
    "    \"snmpguess\", \"warezclient\", \"warezmaster\", \"xlock\", \"xsnoop\")\n",
    "\n",
    "DoSCount = 0\n",
    "ProbeCount = 0\n",
    "U2RCount = 0\n",
    "R2LCount = 0\n",
    "NormalCount = 0\n",
    "\n",
    "for item in tmp:\n",
    "    if item in check1:\n",
    "        classlist.append(\"dos\")\n",
    "        DoSCount = DoSCount + 1\n",
    "    elif item in check2:\n",
    "        classlist.append(\"probe\")\n",
    "        ProbeCount = ProbeCount + 1\n",
    "    elif item in check3:\n",
    "        classlist.append(\"u2r\")\n",
    "        U2RCount = U2RCount + 1\n",
    "    elif item in check4:\n",
    "        classlist.append(\"r2l\")\n",
    "        R2LCount = R2LCount + 1\n",
    "    else:\n",
    "        classlist.append(\"normal\")\n",
    "        NormalCount = NormalCount + 1"
   ]
  },
  {
   "cell_type": "code",
   "execution_count": 14,
   "id": "61fcada8",
   "metadata": {},
   "outputs": [
    {
     "data": {
      "text/plain": [
       "False"
      ]
     },
     "execution_count": 14,
     "metadata": {},
     "output_type": "execute_result"
    }
   ],
   "source": [
    "# Appending class column to training set\n",
    "new_train_df[\"Class\"] = classlist\n",
    "\n",
    "new_train_df[\"Class\"].value_counts()\n",
    "\n",
    "new_train_df.isnull().values.any()"
   ]
  },
  {
   "cell_type": "code",
   "execution_count": 15,
   "id": "8ad0827a",
   "metadata": {},
   "outputs": [],
   "source": [
    "attack_dict = {\n",
    "    'normal': 0,\n",
    "    'dos': 1,\n",
    "    'probe': 1,\n",
    "    'u2r': 1,\n",
    "    'r2l': 1\n",
    "}\n",
    "\n",
    "y_train = new_train_df[\"Class\"]"
   ]
  },
  {
   "cell_type": "code",
   "execution_count": 16,
   "id": "1e99706c",
   "metadata": {},
   "outputs": [
    {
     "data": {
      "text/plain": [
       "False"
      ]
     },
     "execution_count": 16,
     "metadata": {},
     "output_type": "execute_result"
    }
   ],
   "source": [
    "y_train.isnull().values.any()"
   ]
  },
  {
   "cell_type": "code",
   "execution_count": 17,
   "id": "c396b381",
   "metadata": {},
   "outputs": [
    {
     "name": "stderr",
     "output_type": "stream",
     "text": [
      "/tmp/ipykernel_30727/244079308.py:3: FutureWarning: In a future version of pandas all arguments of DataFrame.drop except for the argument 'labels' will be keyword-only.\n",
      "  combined_data_X = new_train_df.drop('Class', 1)\n"
     ]
    }
   ],
   "source": [
    "y_train = y_train.replace(attack_dict)\n",
    "\n",
    "combined_data_X = new_train_df.drop('Class', 1)"
   ]
  },
  {
   "cell_type": "code",
   "execution_count": 18,
   "id": "c9f80691",
   "metadata": {},
   "outputs": [],
   "source": [
    "min_max_scaler = preprocessing.MinMaxScaler()\n",
    "\n",
    "combined_data_X_normalized_df = pd.DataFrame(min_max_scaler.fit_transform(combined_data_X))"
   ]
  },
  {
   "cell_type": "code",
   "execution_count": 19,
   "id": "c35832e7",
   "metadata": {},
   "outputs": [],
   "source": [
    "X_train, X_test, y_train, y_test = train_test_split(combined_data_X_normalized_df, y_train, test_size=0.2, random_state=1)\n",
    "\n",
    "X_train, X_val, y_train, y_val = train_test_split(X_train, y_train, test_size=0.25, random_state=1)  # 0.25 x 0.8 = 0.2"
   ]
  },
  {
   "cell_type": "code",
   "execution_count": 20,
   "id": "2a09e17d",
   "metadata": {},
   "outputs": [],
   "source": [
    "# Save the results\n",
    "X_train.to_csv(os.path.join(DATA_DIR, 'processed_nslkdd', 'train/train_features.csv'))\n",
    "X_val.to_csv(os.path.join(DATA_DIR, 'processed_nslkdd', 'val/val_features.csv'))\n",
    "X_test.to_csv(os.path.join(DATA_DIR, 'processed_nslkdd', 'test/test_features.csv'))\n",
    "\n",
    "y_train.to_csv(os.path.join(DATA_DIR, 'processed_nslkdd', 'train/train_labels.csv'))\n",
    "y_val.to_csv(os.path.join(DATA_DIR, 'processed_nslkdd', 'val/val_labels.csv'))\n",
    "y_test.to_csv(os.path.join(DATA_DIR, 'processed_nslkdd', 'test/test_labels.csv'))"
   ]
  },
  {
   "cell_type": "code",
   "execution_count": null,
   "id": "b51ed4f3",
   "metadata": {},
   "outputs": [],
   "source": []
  }
 ],
 "metadata": {
  "kernelspec": {
   "display_name": "Python 3 (ipykernel)",
   "language": "python",
   "name": "python3"
  },
  "language_info": {
   "codemirror_mode": {
    "name": "ipython",
    "version": 3
   },
   "file_extension": ".py",
   "mimetype": "text/x-python",
   "name": "python",
   "nbconvert_exporter": "python",
   "pygments_lexer": "ipython3",
   "version": "3.9.14"
  }
 },
 "nbformat": 4,
 "nbformat_minor": 5
}
