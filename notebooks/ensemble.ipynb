{
 "cells": [
  {
   "cell_type": "code",
   "execution_count": 9,
   "id": "bba6978c",
   "metadata": {},
   "outputs": [],
   "source": [
    "import sys\n",
    "import os\n",
    "\n",
    "from pathlib import Path\n",
    "\n",
    "import pandas as pd\n",
    "import numpy as np\n",
    "from sklearn.ensemble import VotingClassifier\n",
    "from sklearn.metrics import classification_report\n",
    "\n",
    "from xgboost import XGBClassifier\n",
    "\n",
    "sys.path.append(os.path.dirname(os.getcwd()))\n",
    "\n",
    "from dbn_nslkdd.dbn.models import UnsupervisedDBN\n"
   ]
  },
  {
   "cell_type": "code",
   "execution_count": 10,
   "id": "8d0e4231",
   "metadata": {},
   "outputs": [],
   "source": [
    "DATA_PATH = Path('..') / 'data'\n",
    "RAW_DATA_PATH = DATA_PATH / 'raw'\n",
    "PROCESSED_DATA_PATH = DATA_PATH / 'processed_v3'\n",
    "\n",
    "MODELS_PATH = Path('..') / 'models'"
   ]
  },
  {
   "cell_type": "code",
   "execution_count": 14,
   "id": "3af48f0c",
   "metadata": {},
   "outputs": [],
   "source": [
    "X_train = pd.read_csv(PROCESSED_DATA_PATH / 'X_train.csv')\n",
    "X_val   = pd.read_csv(PROCESSED_DATA_PATH / 'X_val.csv')\n",
    "y_train = pd.read_csv(PROCESSED_DATA_PATH / 'y_train.csv')\n",
    "y_val   = pd.read_csv(PROCESSED_DATA_PATH / 'y_val.csv')\n",
    "X_test  = pd.read_csv(PROCESSED_DATA_PATH / 'X_test.csv')\n",
    "y_test  = pd.read_csv(PROCESSED_DATA_PATH / 'y_test.csv')\n",
    "\n",
    "y_pred_xgboost = np.load(PROCESSED_DATA_PATH / 'y_pred.npy', allow_pickle=True).astype(np.bool_)\n",
    "y_pred_dbn = np.load(PROCESSED_DATA_PATH / 'dbn_model_results.npy', allow_pickle=True).astype(np.bool_)\n",
    "\n",
    "\n",
    "combined_models_OR = np.logical_or(y_pred_xgboost, y_pred_dbn)"
   ]
  },
  {
   "cell_type": "code",
   "execution_count": 15,
   "id": "6e552c7a",
   "metadata": {},
   "outputs": [
    {
     "name": "stdout",
     "output_type": "stream",
     "text": [
      "              precision    recall  f1-score   support\n",
      "\n",
      "           0       0.90      0.86      0.88      9694\n",
      "           1       0.89      0.93      0.91     12806\n",
      "\n",
      "    accuracy                           0.89     22500\n",
      "   macro avg       0.90      0.89      0.89     22500\n",
      "weighted avg       0.90      0.89      0.89     22500\n",
      "\n"
     ]
    }
   ],
   "source": [
    "report = classification_report(y_test.iloc[:22500], combined_models_OR)\n",
    "print(report)"
   ]
  },
  {
   "cell_type": "code",
   "execution_count": null,
   "id": "dfffde06",
   "metadata": {},
   "outputs": [],
   "source": []
  }
 ],
 "metadata": {
  "kernelspec": {
   "display_name": "Python 3 (ipykernel)",
   "language": "python",
   "name": "python3"
  },
  "language_info": {
   "codemirror_mode": {
    "name": "ipython",
    "version": 3
   },
   "file_extension": ".py",
   "mimetype": "text/x-python",
   "name": "python",
   "nbconvert_exporter": "python",
   "pygments_lexer": "ipython3",
   "version": "3.9.14"
  }
 },
 "nbformat": 4,
 "nbformat_minor": 5
}
