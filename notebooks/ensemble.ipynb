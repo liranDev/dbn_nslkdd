{
 "cells": [
  {
   "cell_type": "code",
   "execution_count": 23,
   "id": "bba6978c",
   "metadata": {},
   "outputs": [],
   "source": [
    "import sys\n",
    "import os\n",
    "\n",
    "from pathlib import Path\n",
    "\n",
    "import pandas as pd\n",
    "import numpy as np\n",
    "from sklearn.ensemble import VotingClassifier\n",
    "from sklearn.metrics import classification_report\n",
    "import scikitplot as skplt\n",
    "\n",
    "\n",
    "from xgboost import XGBClassifier\n",
    "\n",
    "sys.path.append(os.path.dirname(os.getcwd()))\n",
    "\n",
    "from dbn_nslkdd.dbn.models import UnsupervisedDBN\n"
   ]
  },
  {
   "cell_type": "code",
   "execution_count": 24,
   "id": "8d0e4231",
   "metadata": {},
   "outputs": [],
   "source": [
    "DATA_PATH = Path('..') / 'data'\n",
    "RAW_DATA_PATH = DATA_PATH / 'raw'\n",
    "PROCESSED_DATA_PATH = DATA_PATH / 'processed_v3'\n",
    "\n",
    "MODELS_PATH = Path('..') / 'models'"
   ]
  },
  {
   "cell_type": "code",
   "execution_count": 45,
   "id": "3af48f0c",
   "metadata": {},
   "outputs": [],
   "source": [
    "X_train = pd.read_csv(PROCESSED_DATA_PATH / 'X_train.csv')\n",
    "X_val   = pd.read_csv(PROCESSED_DATA_PATH / 'X_val.csv')\n",
    "y_train = pd.read_csv(PROCESSED_DATA_PATH / 'y_train.csv', index_col=False)\n",
    "y_val   = pd.read_csv(PROCESSED_DATA_PATH / 'y_val.csv')\n",
    "X_test  = pd.read_csv(PROCESSED_DATA_PATH / 'X_test.csv')\n",
    "y_test  = pd.read_csv(PROCESSED_DATA_PATH / 'y_test.csv', index_col=False)\n",
    "\n",
    "y_pred_val_xgboost = np.load(PROCESSED_DATA_PATH / 'y_pred_val_xgboost.npy', allow_pickle=True).astype(np.bool_)\n",
    "y_pred_test_xgboost = np.load(PROCESSED_DATA_PATH / 'y_pred_test_xgboost.npy', allow_pickle=True).astype(np.bool_)\n",
    "y_pred_val_dbn = np.load(PROCESSED_DATA_PATH / 'dbn_model_val_results.npy', allow_pickle=True).astype(np.bool_)\n",
    "y_pred_test_dbn = np.load(PROCESSED_DATA_PATH / 'dbn_model_test_results.npy', allow_pickle=True).astype(np.bool_)\n",
    "\n",
    "combined_models_val_OR = np.logical_or(y_pred_val_xgboost, y_pred_val_dbn)\n",
    "combined_models_test_OR = np.logical_or(y_pred_test_xgboost, y_pred_test_dbn)"
   ]
  },
  {
   "cell_type": "code",
   "execution_count": 46,
   "id": "6e552c7a",
   "metadata": {},
   "outputs": [
    {
     "name": "stdout",
     "output_type": "stream",
     "text": [
      "              precision    recall  f1-score   support\n",
      "\n",
      "       False       1.00      0.84      0.92     10601\n",
      "        True       0.81      1.00      0.89      6942\n",
      "\n",
      "    accuracy                           0.91     17543\n",
      "   macro avg       0.90      0.92      0.90     17543\n",
      "weighted avg       0.92      0.91      0.91     17543\n",
      "\n"
     ]
    }
   ],
   "source": [
    "report_val = classification_report(y_pred_val_xgboost, combined_models_val_OR)\n",
    "report_test = classification_report(y_pred_test_xgboost, combined_models_test_OR)\n",
    "# print(report_val)\n",
    "print(report_test)\n",
    "\n"
   ]
  },
  {
   "cell_type": "code",
   "execution_count": 20,
   "id": "fb222cb5",
   "metadata": {},
   "outputs": [
    {
     "ename": "ValueError",
     "evalue": "Found input variables with inconsistent numbers of samples: [17543, 5000]",
     "output_type": "error",
     "traceback": [
      "\u001b[0;31m---------------------------------------------------------------------------\u001b[0m",
      "\u001b[0;31mValueError\u001b[0m                                Traceback (most recent call last)",
      "Cell \u001b[0;32mIn[20], line 27\u001b[0m\n\u001b[1;32m     24\u001b[0m \u001b[38;5;28;01mfrom\u001b[39;00m \u001b[38;5;21;01msklearn\u001b[39;00m\u001b[38;5;21;01m.\u001b[39;00m\u001b[38;5;21;01mmetrics\u001b[39;00m \u001b[38;5;28;01mimport\u001b[39;00m roc_curve\n\u001b[1;32m     25\u001b[0m \u001b[38;5;28;01mfrom\u001b[39;00m \u001b[38;5;21;01msklearn\u001b[39;00m\u001b[38;5;21;01m.\u001b[39;00m\u001b[38;5;21;01mmetrics\u001b[39;00m \u001b[38;5;28;01mimport\u001b[39;00m RocCurveDisplay\n\u001b[0;32m---> 27\u001b[0m fpr, tpr, _ \u001b[38;5;241m=\u001b[39m \u001b[43mmetrics\u001b[49m\u001b[38;5;241;43m.\u001b[39;49m\u001b[43mroc_curve\u001b[49m\u001b[43m(\u001b[49m\u001b[43my_test\u001b[49m\u001b[43m,\u001b[49m\u001b[43m \u001b[49m\u001b[43mcombined_models_OR_tf\u001b[49m\u001b[43m)\u001b[49m\n\u001b[1;32m     28\u001b[0m auc \u001b[38;5;241m=\u001b[39m \u001b[38;5;28mround\u001b[39m(metrics\u001b[38;5;241m.\u001b[39mroc_auc_score(y_test, combined_models_OR_tf), \u001b[38;5;241m4\u001b[39m)\n\u001b[1;32m     29\u001b[0m plt\u001b[38;5;241m.\u001b[39mplot(fpr,tpr,label\u001b[38;5;241m=\u001b[39m\u001b[38;5;124m\"\u001b[39m\u001b[38;5;124mensemble models, AUC=\u001b[39m\u001b[38;5;124m\"\u001b[39m\u001b[38;5;241m+\u001b[39m\u001b[38;5;28mstr\u001b[39m(auc))\n",
      "File \u001b[0;32m~/.virtualenvs/dbn_nslkdd/lib/python3.9/site-packages/sklearn/metrics/_ranking.py:992\u001b[0m, in \u001b[0;36mroc_curve\u001b[0;34m(y_true, y_score, pos_label, sample_weight, drop_intermediate)\u001b[0m\n\u001b[1;32m    904\u001b[0m \u001b[38;5;28;01mdef\u001b[39;00m \u001b[38;5;21mroc_curve\u001b[39m(\n\u001b[1;32m    905\u001b[0m     y_true, y_score, \u001b[38;5;241m*\u001b[39m, pos_label\u001b[38;5;241m=\u001b[39m\u001b[38;5;28;01mNone\u001b[39;00m, sample_weight\u001b[38;5;241m=\u001b[39m\u001b[38;5;28;01mNone\u001b[39;00m, drop_intermediate\u001b[38;5;241m=\u001b[39m\u001b[38;5;28;01mTrue\u001b[39;00m\n\u001b[1;32m    906\u001b[0m ):\n\u001b[1;32m    907\u001b[0m     \u001b[38;5;124;03m\"\"\"Compute Receiver operating characteristic (ROC).\u001b[39;00m\n\u001b[1;32m    908\u001b[0m \n\u001b[1;32m    909\u001b[0m \u001b[38;5;124;03m    Note: this implementation is restricted to the binary classification task.\u001b[39;00m\n\u001b[0;32m   (...)\u001b[0m\n\u001b[1;32m    990\u001b[0m \u001b[38;5;124;03m    array([1.8 , 0.8 , 0.4 , 0.35, 0.1 ])\u001b[39;00m\n\u001b[1;32m    991\u001b[0m \u001b[38;5;124;03m    \"\"\"\u001b[39;00m\n\u001b[0;32m--> 992\u001b[0m     fps, tps, thresholds \u001b[38;5;241m=\u001b[39m \u001b[43m_binary_clf_curve\u001b[49m\u001b[43m(\u001b[49m\n\u001b[1;32m    993\u001b[0m \u001b[43m        \u001b[49m\u001b[43my_true\u001b[49m\u001b[43m,\u001b[49m\u001b[43m \u001b[49m\u001b[43my_score\u001b[49m\u001b[43m,\u001b[49m\u001b[43m \u001b[49m\u001b[43mpos_label\u001b[49m\u001b[38;5;241;43m=\u001b[39;49m\u001b[43mpos_label\u001b[49m\u001b[43m,\u001b[49m\u001b[43m \u001b[49m\u001b[43msample_weight\u001b[49m\u001b[38;5;241;43m=\u001b[39;49m\u001b[43msample_weight\u001b[49m\n\u001b[1;32m    994\u001b[0m \u001b[43m    \u001b[49m\u001b[43m)\u001b[49m\n\u001b[1;32m    996\u001b[0m     \u001b[38;5;66;03m# Attempt to drop thresholds corresponding to points in between and\u001b[39;00m\n\u001b[1;32m    997\u001b[0m     \u001b[38;5;66;03m# collinear with other points. These are always suboptimal and do not\u001b[39;00m\n\u001b[1;32m    998\u001b[0m     \u001b[38;5;66;03m# appear on a plotted ROC curve (and thus do not affect the AUC).\u001b[39;00m\n\u001b[0;32m   (...)\u001b[0m\n\u001b[1;32m   1003\u001b[0m     \u001b[38;5;66;03m# but does not drop more complicated cases like fps = [1, 3, 7],\u001b[39;00m\n\u001b[1;32m   1004\u001b[0m     \u001b[38;5;66;03m# tps = [1, 2, 4]; there is no harm in keeping too many thresholds.\u001b[39;00m\n\u001b[1;32m   1005\u001b[0m     \u001b[38;5;28;01mif\u001b[39;00m drop_intermediate \u001b[38;5;129;01mand\u001b[39;00m \u001b[38;5;28mlen\u001b[39m(fps) \u001b[38;5;241m>\u001b[39m \u001b[38;5;241m2\u001b[39m:\n",
      "File \u001b[0;32m~/.virtualenvs/dbn_nslkdd/lib/python3.9/site-packages/sklearn/metrics/_ranking.py:751\u001b[0m, in \u001b[0;36m_binary_clf_curve\u001b[0;34m(y_true, y_score, pos_label, sample_weight)\u001b[0m\n\u001b[1;32m    748\u001b[0m \u001b[38;5;28;01mif\u001b[39;00m \u001b[38;5;129;01mnot\u001b[39;00m (y_type \u001b[38;5;241m==\u001b[39m \u001b[38;5;124m\"\u001b[39m\u001b[38;5;124mbinary\u001b[39m\u001b[38;5;124m\"\u001b[39m \u001b[38;5;129;01mor\u001b[39;00m (y_type \u001b[38;5;241m==\u001b[39m \u001b[38;5;124m\"\u001b[39m\u001b[38;5;124mmulticlass\u001b[39m\u001b[38;5;124m\"\u001b[39m \u001b[38;5;129;01mand\u001b[39;00m pos_label \u001b[38;5;129;01mis\u001b[39;00m \u001b[38;5;129;01mnot\u001b[39;00m \u001b[38;5;28;01mNone\u001b[39;00m)):\n\u001b[1;32m    749\u001b[0m     \u001b[38;5;28;01mraise\u001b[39;00m \u001b[38;5;167;01mValueError\u001b[39;00m(\u001b[38;5;124m\"\u001b[39m\u001b[38;5;132;01m{0}\u001b[39;00m\u001b[38;5;124m format is not supported\u001b[39m\u001b[38;5;124m\"\u001b[39m\u001b[38;5;241m.\u001b[39mformat(y_type))\n\u001b[0;32m--> 751\u001b[0m \u001b[43mcheck_consistent_length\u001b[49m\u001b[43m(\u001b[49m\u001b[43my_true\u001b[49m\u001b[43m,\u001b[49m\u001b[43m \u001b[49m\u001b[43my_score\u001b[49m\u001b[43m,\u001b[49m\u001b[43m \u001b[49m\u001b[43msample_weight\u001b[49m\u001b[43m)\u001b[49m\n\u001b[1;32m    752\u001b[0m y_true \u001b[38;5;241m=\u001b[39m column_or_1d(y_true)\n\u001b[1;32m    753\u001b[0m y_score \u001b[38;5;241m=\u001b[39m column_or_1d(y_score)\n",
      "File \u001b[0;32m~/.virtualenvs/dbn_nslkdd/lib/python3.9/site-packages/sklearn/utils/validation.py:397\u001b[0m, in \u001b[0;36mcheck_consistent_length\u001b[0;34m(*arrays)\u001b[0m\n\u001b[1;32m    395\u001b[0m uniques \u001b[38;5;241m=\u001b[39m np\u001b[38;5;241m.\u001b[39munique(lengths)\n\u001b[1;32m    396\u001b[0m \u001b[38;5;28;01mif\u001b[39;00m \u001b[38;5;28mlen\u001b[39m(uniques) \u001b[38;5;241m>\u001b[39m \u001b[38;5;241m1\u001b[39m:\n\u001b[0;32m--> 397\u001b[0m     \u001b[38;5;28;01mraise\u001b[39;00m \u001b[38;5;167;01mValueError\u001b[39;00m(\n\u001b[1;32m    398\u001b[0m         \u001b[38;5;124m\"\u001b[39m\u001b[38;5;124mFound input variables with inconsistent numbers of samples: \u001b[39m\u001b[38;5;132;01m%r\u001b[39;00m\u001b[38;5;124m\"\u001b[39m\n\u001b[1;32m    399\u001b[0m         \u001b[38;5;241m%\u001b[39m [\u001b[38;5;28mint\u001b[39m(l) \u001b[38;5;28;01mfor\u001b[39;00m l \u001b[38;5;129;01min\u001b[39;00m lengths]\n\u001b[1;32m    400\u001b[0m     )\n",
      "\u001b[0;31mValueError\u001b[0m: Found input variables with inconsistent numbers of samples: [17543, 5000]"
     ]
    }
   ],
   "source": [
    "from sklearn import metrics\n",
    "from sklearn.metrics import roc_auc_score\n",
    "\n",
    "\n",
    "import matplotlib.pyplot as plt\n",
    "\n",
    "y_train = y_train.applymap(lambda x: x[0] if isinstance(x, list) else x).iloc[:22500]\n",
    "y_test  = y_test.applymap(lambda x: x[0] if isinstance(x, list) else x).iloc[:22500]\n",
    "combined_models_OR_tf = pd.DataFrame(combined_models_OR).applymap(lambda x: x[0] if isinstance(x, list) else x).iloc[:22500]\n",
    "\n",
    "# score = roc_auc_score(y_test, combined_models_OR_tf)\n",
    "# print(f\"ROC AUC: {score:.4f}\")\n",
    "\n",
    "# fpr, tpr, _ = metrics.roc_curve(y_test,  combined_models_OR_tf)\n",
    "# auc = metrics.roc_auc_score(y_test, combined_models_OR_tf)\n",
    "\n",
    "# #create ROC curve\n",
    "# plt.plot(fpr,tpr,label=\"AUC=\"+str(auc))\n",
    "# plt.ylabel('True Positive Rate')\n",
    "# plt.xlabel('False Positive Rate')\n",
    "# plt.legend(loc=4)\n",
    "# plt.show()\n",
    "\n",
    "from sklearn.metrics import roc_curve\n",
    "from sklearn.metrics import RocCurveDisplay\n",
    "\n",
    "fpr, tpr, _ = metrics.roc_curve(y_test, combined_models_OR_tf)\n",
    "auc = round(metrics.roc_auc_score(y_test, combined_models_OR_tf), 4)\n",
    "plt.plot(fpr,tpr,label=\"ensemble models, AUC=\"+str(auc))\n",
    "\n",
    "fpr, tpr, _ = metrics.roc_curve(y_test, y_pred_dbn)\n",
    "auc = round(metrics.roc_auc_score(y_test, y_pred_dbn), 4)\n",
    "plt.plot(fpr,tpr,label=\"dbn, AUC=\"+str(auc))\n",
    "\n",
    "fpr, tpr, _ = metrics.roc_curve(y_test, y_pred_xgboost)\n",
    "auc = round(metrics.roc_auc_score(y_test, y_pred_xgboost), 4)\n",
    "plt.plot(fpr,tpr,label=\"XGBoost, AUC=\"+str(auc))\n",
    "\n",
    "plt.title('ROC Curve')\n",
    "\n",
    "#add legend\n",
    "plt.legend()\n"
   ]
  },
  {
   "cell_type": "code",
   "execution_count": 97,
   "id": "2eaff294",
   "metadata": {},
   "outputs": [
    {
     "name": "stdout",
     "output_type": "stream",
     "text": [
      "              precision    recall  f1-score   support\n",
      "\n",
      "           0       0.87      0.93      0.90      9694\n",
      "           1       0.94      0.89      0.92     12806\n",
      "\n",
      "    accuracy                           0.91     22500\n",
      "   macro avg       0.90      0.91      0.91     22500\n",
      "weighted avg       0.91      0.91      0.91     22500\n",
      "\n"
     ]
    }
   ],
   "source": [
    "from sklearn.metrics import classification_report\n",
    " \n",
    "print(classification_report(y_test, combined_models_OR_tf))"
   ]
  },
  {
   "cell_type": "code",
   "execution_count": 1,
   "id": "1fe063cd",
   "metadata": {},
   "outputs": [],
   "source": [
    "from sklearn.manifold import TSNE\n",
    "\n",
    "tsne = TSNE(n_components=2, verbose=1, perplexity=40, n_iter=300)\n",
    "\n",
    "tsne_results = tsne.fit_transform(data_subset)\n",
    "\n",
    "df_subset['tsne-2d-one'] = tsne_results[:,0]\n",
    "df_subset['tsne-2d-two'] = tsne_results[:,1]\n",
    "\n",
    "plt.figure(figsize=(16,10))\n",
    "sns.scatterplot(\n",
    "    x=\"tsne-2d-one\", y=\"tsne-2d-two\",\n",
    "    hue=\"y\",\n",
    "    palette=sns.color_palette(\"hls\", 10),\n",
    "    data=df_subset,\n",
    "    legend=\"full\",\n",
    "    alpha=0.3\n",
    ")"
   ]
  }
 ],
 "metadata": {
  "kernelspec": {
   "display_name": "Python 3 (ipykernel)",
   "language": "python",
   "name": "python3"
  },
  "language_info": {
   "codemirror_mode": {
    "name": "ipython",
    "version": 3
   },
   "file_extension": ".py",
   "mimetype": "text/x-python",
   "name": "python",
   "nbconvert_exporter": "python",
   "pygments_lexer": "ipython3",
   "version": "3.9.14"
  }
 },
 "nbformat": 4,
 "nbformat_minor": 5
}
