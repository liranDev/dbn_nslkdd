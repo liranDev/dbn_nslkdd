{
 "cells": [
  {
   "cell_type": "code",
   "execution_count": 32,
   "id": "81eb398a",
   "metadata": {
    "scrolled": true
   },
   "outputs": [],
   "source": [
    "import sys\n",
    "import os\n",
    "\n",
    "import pandas as pd\n",
    "import numpy as np\n",
    "\n",
    "from sklearn.preprocessing import MinMaxScaler\n",
    "from sklearn.metrics import accuracy_score, precision_score, recall_score\n",
    "sys.path.append(os.path.dirname(os.getcwd()))\n",
    "\n",
    "from dbn_nslkdd.dbn.models import UnsupervisedDBN\n",
    "\n",
    "from pathlib import Path"
   ]
  },
  {
   "cell_type": "code",
   "execution_count": 96,
   "id": "f1f067b8",
   "metadata": {
    "scrolled": true
   },
   "outputs": [],
   "source": [
    "DATA_PATH = Path('..') / 'data'\n",
    "RAW_DATA_PATH = DATA_PATH / 'raw'\n",
    "PROCESSED_DATA_PATH = DATA_PATH / 'processed_v3'\n",
    "\n",
    "MODELS_PATH = Path('..') / 'models'\n",
    "\n",
    "LOAD_MODEL = False\n",
    "\n",
    "VAL_SIZE = 5000\n",
    "TEST_VAL_SIZE = 17543\n",
    "TRAIN_SIZE = 125972"
   ]
  },
  {
   "cell_type": "markdown",
   "id": "a3e0a818",
   "metadata": {},
   "source": [
    "# Load Data"
   ]
  },
  {
   "cell_type": "code",
   "execution_count": 97,
   "id": "b09ab934",
   "metadata": {
    "scrolled": true
   },
   "outputs": [],
   "source": [
    "shap_values_train = np.fromfile(PROCESSED_DATA_PATH / 'shap_values_train_from_xgboost.npy')\n",
    "shap_values_train = shap_values_train.reshape(TRAIN_SIZE, 41)\n",
    "\n",
    "shap_values_test = np.fromfile(PROCESSED_DATA_PATH / 'shap_values_test_from_xgboost.npy')\n",
    "shap_values_test = shap_values_test.reshape(TEST_VAL_SIZE, 41)\n",
    "\n",
    "shap_values_val = np.fromfile(PROCESSED_DATA_PATH / 'shap_values_val_from_xgboost.npy')\n",
    "shap_values_val = shap_values_val.reshape(VAL_SIZE, 41)\n",
    "\n",
    "y_test   = pd.read_csv(PROCESSED_DATA_PATH / 'y_test.csv')\n",
    "y_val   = pd.read_csv(PROCESSED_DATA_PATH / 'y_val.csv')\n",
    "\n"
   ]
  },
  {
   "cell_type": "markdown",
   "id": "e568569b",
   "metadata": {},
   "source": [
    "# Scale Data"
   ]
  },
  {
   "cell_type": "code",
   "execution_count": 98,
   "id": "e7f26342",
   "metadata": {
    "scrolled": true
   },
   "outputs": [],
   "source": [
    "scaler = MinMaxScaler()\n",
    "shap_values_train_scaled = scaler.fit(shap_values_train).transform(shap_values_train)\n",
    "shap_values_test_scaled = scaler.fit(shap_values_test).transform(shap_values_test)\n",
    "shap_values_val_scaled = scaler.fit(shap_values_val).transform(shap_values_val)"
   ]
  },
  {
   "cell_type": "markdown",
   "id": "8b04a6b1",
   "metadata": {},
   "source": [
    "# Run DBN"
   ]
  },
  {
   "cell_type": "code",
   "execution_count": 99,
   "id": "b3db633d",
   "metadata": {
    "scrolled": true
   },
   "outputs": [],
   "source": [
    "N_EPOCHS_RBM = 50\n",
    "dbn = UnsupervisedDBN(hidden_layers_structure=[41, 41],\n",
    "                      learning_rate_rbm=0.06,\n",
    "                      n_epochs_rbm=N_EPOCHS_RBM,\n",
    "                      activation_function='sigmoid')"
   ]
  },
  {
   "cell_type": "code",
   "execution_count": 102,
   "id": "737e55cc",
   "metadata": {
    "scrolled": false
   },
   "outputs": [
    {
     "name": "stdout",
     "output_type": "stream",
     "text": [
      "[START] Pre-training step:\n",
      ">> Epoch 1 finished \tRBM Reconstruction error 0.402105\n",
      ">> Epoch 2 finished \tRBM Reconstruction error 0.356276\n",
      ">> Epoch 3 finished \tRBM Reconstruction error 0.327203\n",
      ">> Epoch 4 finished \tRBM Reconstruction error 0.314280\n",
      ">> Epoch 5 finished \tRBM Reconstruction error 0.299740\n",
      ">> Epoch 6 finished \tRBM Reconstruction error 0.289141\n",
      ">> Epoch 7 finished \tRBM Reconstruction error 0.274104\n",
      ">> Epoch 8 finished \tRBM Reconstruction error 0.279415\n",
      ">> Epoch 9 finished \tRBM Reconstruction error 0.268081\n",
      ">> Epoch 10 finished \tRBM Reconstruction error 0.264025\n",
      ">> Epoch 11 finished \tRBM Reconstruction error 0.265969\n",
      ">> Epoch 12 finished \tRBM Reconstruction error 0.261182\n",
      ">> Epoch 13 finished \tRBM Reconstruction error 0.257156\n",
      ">> Epoch 14 finished \tRBM Reconstruction error 0.257214\n",
      ">> Epoch 15 finished \tRBM Reconstruction error 0.253634\n",
      ">> Epoch 16 finished \tRBM Reconstruction error 0.253720\n",
      ">> Epoch 17 finished \tRBM Reconstruction error 0.250137\n",
      ">> Epoch 18 finished \tRBM Reconstruction error 0.251045\n",
      ">> Epoch 19 finished \tRBM Reconstruction error 0.244440\n",
      ">> Epoch 20 finished \tRBM Reconstruction error 0.238441\n",
      ">> Epoch 21 finished \tRBM Reconstruction error 0.243012\n",
      ">> Epoch 22 finished \tRBM Reconstruction error 0.245612\n",
      ">> Epoch 23 finished \tRBM Reconstruction error 0.242738\n",
      ">> Epoch 24 finished \tRBM Reconstruction error 0.239831\n",
      ">> Epoch 25 finished \tRBM Reconstruction error 0.236485\n",
      ">> Epoch 26 finished \tRBM Reconstruction error 0.235116\n",
      ">> Epoch 27 finished \tRBM Reconstruction error 0.234731\n",
      ">> Epoch 28 finished \tRBM Reconstruction error 0.242708\n",
      ">> Epoch 29 finished \tRBM Reconstruction error 0.239643\n",
      ">> Epoch 30 finished \tRBM Reconstruction error 0.233907\n",
      ">> Epoch 31 finished \tRBM Reconstruction error 0.236361\n",
      ">> Epoch 32 finished \tRBM Reconstruction error 0.236927\n",
      ">> Epoch 33 finished \tRBM Reconstruction error 0.225297\n",
      ">> Epoch 34 finished \tRBM Reconstruction error 0.234353\n",
      ">> Epoch 35 finished \tRBM Reconstruction error 0.229979\n",
      ">> Epoch 36 finished \tRBM Reconstruction error 0.227667\n",
      ">> Epoch 37 finished \tRBM Reconstruction error 0.226798\n",
      ">> Epoch 38 finished \tRBM Reconstruction error 0.229779\n",
      ">> Epoch 39 finished \tRBM Reconstruction error 0.226637\n",
      ">> Epoch 40 finished \tRBM Reconstruction error 0.224197\n",
      ">> Epoch 41 finished \tRBM Reconstruction error 0.229952\n",
      ">> Epoch 42 finished \tRBM Reconstruction error 0.224928\n",
      ">> Epoch 43 finished \tRBM Reconstruction error 0.225520\n",
      ">> Epoch 44 finished \tRBM Reconstruction error 0.223966\n",
      ">> Epoch 45 finished \tRBM Reconstruction error 0.223124\n",
      ">> Epoch 46 finished \tRBM Reconstruction error 0.219668\n",
      ">> Epoch 47 finished \tRBM Reconstruction error 0.225626\n",
      ">> Epoch 48 finished \tRBM Reconstruction error 0.221498\n",
      ">> Epoch 49 finished \tRBM Reconstruction error 0.220703\n",
      ">> Epoch 50 finished \tRBM Reconstruction error 0.222384\n",
      ">> Epoch 1 finished \tRBM Reconstruction error 0.210871\n",
      ">> Epoch 2 finished \tRBM Reconstruction error 0.143013\n",
      ">> Epoch 3 finished \tRBM Reconstruction error 0.136392\n",
      ">> Epoch 4 finished \tRBM Reconstruction error 0.130707\n",
      ">> Epoch 5 finished \tRBM Reconstruction error 0.124726\n",
      ">> Epoch 6 finished \tRBM Reconstruction error 0.119683\n",
      ">> Epoch 7 finished \tRBM Reconstruction error 0.116582\n",
      ">> Epoch 8 finished \tRBM Reconstruction error 0.106776\n",
      ">> Epoch 9 finished \tRBM Reconstruction error 0.101848\n",
      ">> Epoch 10 finished \tRBM Reconstruction error 0.105410\n",
      ">> Epoch 11 finished \tRBM Reconstruction error 0.095288\n",
      ">> Epoch 12 finished \tRBM Reconstruction error 0.095159\n",
      ">> Epoch 13 finished \tRBM Reconstruction error 0.092556\n",
      ">> Epoch 14 finished \tRBM Reconstruction error 0.087088\n",
      ">> Epoch 15 finished \tRBM Reconstruction error 0.088330\n",
      ">> Epoch 16 finished \tRBM Reconstruction error 0.085582\n",
      ">> Epoch 17 finished \tRBM Reconstruction error 0.084363\n",
      ">> Epoch 18 finished \tRBM Reconstruction error 0.090365\n",
      ">> Epoch 19 finished \tRBM Reconstruction error 0.085391\n",
      ">> Epoch 20 finished \tRBM Reconstruction error 0.082314\n",
      ">> Epoch 21 finished \tRBM Reconstruction error 0.086025\n",
      ">> Epoch 22 finished \tRBM Reconstruction error 0.082293\n",
      ">> Epoch 23 finished \tRBM Reconstruction error 0.078685\n",
      ">> Epoch 24 finished \tRBM Reconstruction error 0.077982\n",
      ">> Epoch 25 finished \tRBM Reconstruction error 0.076286\n",
      ">> Epoch 26 finished \tRBM Reconstruction error 0.080859\n",
      ">> Epoch 27 finished \tRBM Reconstruction error 0.076359\n",
      ">> Epoch 28 finished \tRBM Reconstruction error 0.076469\n",
      ">> Epoch 29 finished \tRBM Reconstruction error 0.077336\n",
      ">> Epoch 30 finished \tRBM Reconstruction error 0.075710\n",
      ">> Epoch 31 finished \tRBM Reconstruction error 0.073184\n",
      ">> Epoch 32 finished \tRBM Reconstruction error 0.075278\n",
      ">> Epoch 33 finished \tRBM Reconstruction error 0.072887\n",
      ">> Epoch 34 finished \tRBM Reconstruction error 0.075699\n",
      ">> Epoch 35 finished \tRBM Reconstruction error 0.070201\n",
      ">> Epoch 36 finished \tRBM Reconstruction error 0.068266\n",
      ">> Epoch 37 finished \tRBM Reconstruction error 0.071095\n",
      ">> Epoch 38 finished \tRBM Reconstruction error 0.070458\n",
      ">> Epoch 39 finished \tRBM Reconstruction error 0.069190\n",
      ">> Epoch 40 finished \tRBM Reconstruction error 0.070290\n",
      ">> Epoch 41 finished \tRBM Reconstruction error 0.064889\n",
      ">> Epoch 42 finished \tRBM Reconstruction error 0.064395\n",
      ">> Epoch 43 finished \tRBM Reconstruction error 0.069870\n",
      ">> Epoch 44 finished \tRBM Reconstruction error 0.067553\n",
      ">> Epoch 45 finished \tRBM Reconstruction error 0.068386\n",
      ">> Epoch 46 finished \tRBM Reconstruction error 0.066241\n",
      ">> Epoch 47 finished \tRBM Reconstruction error 0.068793\n",
      ">> Epoch 48 finished \tRBM Reconstruction error 0.063458\n",
      ">> Epoch 49 finished \tRBM Reconstruction error 0.066282\n",
      ">> Epoch 50 finished \tRBM Reconstruction error 0.067467\n",
      "[END] Pre-training step\n"
     ]
    }
   ],
   "source": [
    "if LOAD_MODEL:\n",
    "    dbn = UnsupervisedDBN.load(MODELS_PATH / 'dbn_unsupervised_with_shap_v1.model')\n",
    "else:\n",
    "    dbn.fit(shap_values_test_scaled)\n",
    "\n",
    "dbn.save(MODELS_PATH / 'dbn_unsupervised_with_shap_v1.model')"
   ]
  },
  {
   "cell_type": "code",
   "execution_count": 103,
   "id": "d7c634d8",
   "metadata": {
    "scrolled": true
   },
   "outputs": [],
   "source": [
    "K = 10\n",
    "reconstructed_shap_values = dbn.reconstruct_k(shap_values_test_scaled, K)"
   ]
  },
  {
   "cell_type": "code",
   "execution_count": 105,
   "id": "14b1c5d9",
   "metadata": {
    "scrolled": true
   },
   "outputs": [
    {
     "name": "stdout",
     "output_type": "stream",
     "text": [
      "accuracy_score: 0.8641053411617169\n",
      "precision_score: 0.94217568353694\n",
      "recall_score 0.8110165247871808\n"
     ]
    }
   ],
   "source": [
    "thresh_hold = 0.06\n",
    "\n",
    "ARE = abs(reconstructed_shap_values - shap_values_test_scaled)\n",
    "\n",
    "are_df = pd.DataFrame(ARE)\n",
    "\n",
    "are_avg_list = pd.DataFrame(are_df.mean(axis=1)).values.tolist()\n",
    "\n",
    "are_avg = [1 if item[0] > thresh_hold else 0 for item in are_avg_list]\n",
    "are_avg_df = pd.DataFrame(are_avg)\n",
    "\n",
    "are_avg_df.to_csv(PROCESSED_DATA_PATH / 'dbn_model_test_results.csv')\n",
    "np.save(PROCESSED_DATA_PATH / 'dbn_model_test_results.npy', are_avg, allow_pickle=True)\n",
    "\n",
    "print(f'accuracy_score: {accuracy_score(y_test, are_avg_df)}')\n",
    "print(f'precision_score: {precision_score(y_test, are_avg_df)}')\n",
    "print(f'recall_score {recall_score(y_test, are_avg_df)}')"
   ]
  },
  {
   "cell_type": "code",
   "execution_count": 107,
   "id": "22d3fd66",
   "metadata": {
    "scrolled": true
   },
   "outputs": [
    {
     "data": {
      "image/png": "[encoded data removed]",
      "text/plain": [
       "<Figure size 640x480 with 1 Axes>"
      ]
     },
     "metadata": {},
     "output_type": "display_data"
    },
    {
     "data": {
      "image/png": "[encoded data removed]",
      "text/plain": [
       "<Figure size 640x480 with 1 Axes>"
      ]
     },
     "metadata": {},
     "output_type": "display_data"
    },
    {
     "name": "stderr",
     "output_type": "stream",
     "text": [
      "No artists with labels found to put in legend.  Note that artists whose label start with an underscore are ignored when legend() is called with no argument.\n"
     ]
    },
    {
     "data": {
      "image/png": "[encoded data removed]",
      "text/plain": [
       "<Figure size 640x480 with 1 Axes>"
      ]
     },
     "metadata": {},
     "output_type": "display_data"
    }
   ],
   "source": [
    "import matplotlib.pyplot as plt\n",
    "\n",
    "def valuelabel(weight,students):\n",
    "    for i in range(len(weight)):\n",
    "        plt.text(i,students[i],students[i], ha = 'center',\n",
    "                 bbox = dict(facecolor = 'cyan', alpha =0.8))\n",
    "        \n",
    "results_training = {'25':  {'ARE': 0.776, 'XGBoost': 0.80, 'ensemble': 0.75},\n",
    "                   '50':  {'ARE': 0.866, 'XGBoost': 0.80, 'ensemble': 0.89},\n",
    "                   '75':  {'ARE': 0.867, 'XGBoost': 0.80, 'ensemble': 0.89},\n",
    "                   '100': {'ARE': 0.868, 'XGBoost': 0.80, 'ensemble': 0.88},\n",
    "                   '150': {'ARE': 0.868, 'XGBoost': 0.80, 'ensemble': 0.88}}\n",
    "\n",
    "results_test = {'50':  {'ARE': 0.864, 'XGBoost': 0.80, 'ensemble': 0.91}}\n",
    "\n",
    "results_train_df = pd.DataFrame(results_training)\n",
    "results_train_df.transpose().plot.bar()\n",
    "\n",
    "results_test_df = pd.DataFrame(results_test)\n",
    "results_test_df.transpose().plot.bar()\n",
    "\n",
    "plt.legend(loc=(1.04, 0))\n",
    "plt.title('accuracy vs number of epcohs for training')\n",
    "plt.xlabel('number of epcohs')\n",
    "plt.ylabel('accuracy')\n",
    "\n",
    "\n",
    "plt.show()\n",
    "\n",
    "plt.legend(loc=(1.04, 0))\n",
    "plt.title('accuracy vs number of epcohs for test')\n",
    "plt.xlabel('number of epcohs')\n",
    "plt.ylabel('accuracy')\n",
    "\n",
    "\n",
    "plt.show()\n",
    "\n"
   ]
  },
  {
   "cell_type": "code",
   "execution_count": null,
   "id": "1d94d535",
   "metadata": {
    "scrolled": true
   },
   "outputs": [],
   "source": [
    "from sklearn.decomposition import PCA\n",
    "import matplotlib.pyplot as plt\n",
    "\n",
    "from sklearn.preprocessing import LabelEncoder,OneHotEncoder\n",
    "from sklearn import preprocessing\n",
    "pca = PCA(n_components=41)\n",
    "\n",
    "scaler = preprocessing.StandardScaler()\n",
    "\n",
    "X_train = pd.DataFrame(scaler.fit(X_train).transform(X_train))\n",
    "\n",
    "X_train_PCA = pca.fit_transform(X_train)\n",
    "X_train_PCA_df = pd.DataFrame(X_train_PCA)\n",
    "\n",
    "colors = {0:'blue', 1:'red'}\n",
    "fig, ax = plt.subplots()\n",
    "ax.scatter(X_train_PCA_df[0], X_train_PCA_df[1], c=y_train.map(colors))\n",
    "\n",
    "exp_var_pca = pca.explained_variance_ratio_\n",
    "\n",
    "cum_sum_eigenvalues = np.cumsum(exp_var_pca)\n",
    "\n",
    "plt.bar(range(0,len(exp_var_pca)), exp_var_pca, alpha=0.5, align='center', label='Individual explained variance')\n",
    "plt.step(range(0,len(cum_sum_eigenvalues)), cum_sum_eigenvalues, where='mid',label='Cumulative explained variance')\n",
    "plt.ylabel('Explained variance ratio')\n",
    "plt.xlabel('Principal component index')\n",
    "plt.legend(loc='best')\n",
    "plt.tight_layout()\n",
    "plt.show()"
   ]
  }
 ],
 "metadata": {
  "kernelspec": {
   "display_name": "Python 3 (ipykernel)",
   "language": "python",
   "name": "python3"
  },
  "language_info": {
   "codemirror_mode": {
    "name": "ipython",
    "version": 3
   },
   "file_extension": ".py",
   "mimetype": "text/x-python",
   "name": "python",
   "nbconvert_exporter": "python",
   "pygments_lexer": "ipython3",
   "version": "3.9.14"
  }
 },
 "nbformat": 4,
 "nbformat_minor": 5
}
