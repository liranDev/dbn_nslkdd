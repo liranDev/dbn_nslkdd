{
 "cells": [
  {
   "cell_type": "code",
   "execution_count": 48,
   "id": "94bdee3d",
   "metadata": {
    "scrolled": true
   },
   "outputs": [
    {
     "name": "stdout",
     "output_type": "stream",
     "text": [
      "Collecting shap\n",
      "  Downloading shap-0.41.0-cp39-cp39-manylinux_2_12_x86_64.manylinux2010_x86_64.whl (572 kB)\n",
      "\u001b[2K     \u001b[90m━━━━━━━━━━━━━━━━━━━━━━━━━━━━━━━━━━━━━━━\u001b[0m \u001b[32m572.4/572.4 kB\u001b[0m \u001b[31m1.4 MB/s\u001b[0m eta \u001b[36m0:00:00\u001b[0m00:01\u001b[0m00:01\u001b[0m\n",
      "\u001b[?25hCollecting slicer==0.0.7\n",
      "  Downloading slicer-0.0.7-py3-none-any.whl (14 kB)\n",
      "Requirement already satisfied: scipy in /home/liran-shani/.virtualenvs/dbn_nslkdd/lib/python3.9/site-packages (from shap) (1.9.3)\n",
      "Requirement already satisfied: packaging>20.9 in /home/liran-shani/.virtualenvs/dbn_nslkdd/lib/python3.9/site-packages (from shap) (22.0)\n",
      "Collecting tqdm>4.25.0\n",
      "  Using cached tqdm-4.64.1-py2.py3-none-any.whl (78 kB)\n",
      "Collecting numba\n",
      "  Downloading numba-0.56.4-cp39-cp39-manylinux2014_x86_64.manylinux_2_17_x86_64.whl (3.5 MB)\n",
      "\u001b[2K     \u001b[90m━━━━━━━━━━━━━━━━━━━━━━━━━━━━━━━━━━━━━━━━\u001b[0m \u001b[32m3.5/3.5 MB\u001b[0m \u001b[31m1.3 MB/s\u001b[0m eta \u001b[36m0:00:00\u001b[0m00:01\u001b[0m00:01\u001b[0m\n",
      "\u001b[?25hRequirement already satisfied: scikit-learn in /home/liran-shani/.virtualenvs/dbn_nslkdd/lib/python3.9/site-packages (from shap) (1.2.0)\n",
      "Requirement already satisfied: pandas in /home/liran-shani/.virtualenvs/dbn_nslkdd/lib/python3.9/site-packages (from shap) (1.5.2)\n",
      "Requirement already satisfied: numpy in /home/liran-shani/.virtualenvs/dbn_nslkdd/lib/python3.9/site-packages (from shap) (1.24.0)\n",
      "Collecting cloudpickle\n",
      "  Using cached cloudpickle-2.2.0-py3-none-any.whl (25 kB)\n",
      "Collecting numpy\n",
      "  Using cached numpy-1.23.5-cp39-cp39-manylinux_2_17_x86_64.manylinux2014_x86_64.whl (17.1 MB)\n",
      "Collecting llvmlite<0.40,>=0.39.0dev0\n",
      "  Downloading llvmlite-0.39.1-cp39-cp39-manylinux_2_17_x86_64.manylinux2014_x86_64.whl (34.6 MB)\n",
      "\u001b[2K     \u001b[90m━━━━━━━━━━━━━━━━━━━━━━━━━━━━━━━━━━━━━━━\u001b[0m \u001b[32m34.6/34.6 MB\u001b[0m \u001b[31m314.8 kB/s\u001b[0m eta \u001b[36m0:00:00\u001b[0m00:01\u001b[0m00:04\u001b[0m\n",
      "\u001b[?25hRequirement already satisfied: setuptools in /home/liran-shani/.virtualenvs/dbn_nslkdd/lib/python3.9/site-packages (from numba->shap) (58.1.0)\n",
      "Requirement already satisfied: python-dateutil>=2.8.1 in /home/liran-shani/.virtualenvs/dbn_nslkdd/lib/python3.9/site-packages (from pandas->shap) (2.8.2)\n",
      "Requirement already satisfied: pytz>=2020.1 in /home/liran-shani/.virtualenvs/dbn_nslkdd/lib/python3.9/site-packages (from pandas->shap) (2022.7)\n",
      "Requirement already satisfied: threadpoolctl>=2.0.0 in /home/liran-shani/.virtualenvs/dbn_nslkdd/lib/python3.9/site-packages (from scikit-learn->shap) (3.1.0)\n",
      "Requirement already satisfied: joblib>=1.1.1 in /home/liran-shani/.virtualenvs/dbn_nslkdd/lib/python3.9/site-packages (from scikit-learn->shap) (1.2.0)\n",
      "Requirement already satisfied: six>=1.5 in /home/liran-shani/.virtualenvs/dbn_nslkdd/lib/python3.9/site-packages (from python-dateutil>=2.8.1->pandas->shap) (1.16.0)\n",
      "Installing collected packages: tqdm, slicer, numpy, llvmlite, cloudpickle, numba, shap\n",
      "  Attempting uninstall: numpy\n",
      "    Found existing installation: numpy 1.24.0\n",
      "    Uninstalling numpy-1.24.0:\n",
      "      Successfully uninstalled numpy-1.24.0\n",
      "Successfully installed cloudpickle-2.2.0 llvmlite-0.39.1 numba-0.56.4 numpy-1.23.5 shap-0.41.0 slicer-0.0.7 tqdm-4.64.1\n",
      "Note: you may need to restart the kernel to use updated packages.\n"
     ]
    }
   ],
   "source": [
    "pip install shap"
   ]
  },
  {
   "cell_type": "code",
   "execution_count": 1,
   "id": "b0669dcc",
   "metadata": {
    "scrolled": false
   },
   "outputs": [
    {
     "name": "stdout",
     "output_type": "stream",
     "text": [
      "WARNING:tensorflow:From /home/liran-shani/.virtualenvs/dbn_nslkdd/lib/python3.9/site-packages/tensorflow/python/compat/v2_compat.py:107: disable_resource_variables (from tensorflow.python.ops.variable_scope) is deprecated and will be removed in a future version.\n",
      "Instructions for updating:\n",
      "non-resource variables are not supported in the long term\n"
     ]
    }
   ],
   "source": [
    "import numpy as np\n",
    "import pandas as pd\n",
    "from sklearn.metrics import accuracy_score\n",
    "import sys\n",
    "import os\n",
    "import joblib\n",
    "import shap\n",
    "\n",
    "sys.path.append(os.path.dirname(os.getcwd()))\n",
    "\n",
    "from dbn_nslkdd.dbn.tensorflow import SupervisedDBNClassification"
   ]
  },
  {
   "cell_type": "code",
   "execution_count": 157,
   "id": "04470220",
   "metadata": {
    "scrolled": false
   },
   "outputs": [],
   "source": [
    "# Load model\n",
    "# if you have a pre-trained model the set to True, ealse set to False\n",
    "\n",
    "LOAD_MODEL=True"
   ]
  },
  {
   "cell_type": "code",
   "execution_count": 158,
   "id": "d759a280",
   "metadata": {
    "scrolled": false
   },
   "outputs": [],
   "source": [
    "DATA_DIR = '../data'\n",
    "MODEL_DIR = '../models'\n",
    "MODEL_NAME = os.path.join(MODEL_DIR, 'model_v1.pkl')\n",
    "\n",
    "FILE_PATH_TRAIN_FEATURES = os.path.join(DATA_DIR, 'processed_nslkdd_v2', 'train/train_features.csv')\n",
    "FILE_PATH_TRAIN_LABLES = os.path.join(DATA_DIR, 'processed_nslkdd_v2', 'train/train_labels.csv')\n",
    "\n",
    "FILE_PATH_TEST_FEATURES = os.path.join(DATA_DIR, 'processed_nslkdd_v2', 'test/test_features.csv')\n",
    "FILE_PATH_TEST_LABLES = os.path.join(DATA_DIR, 'processed_nslkdd_v2', 'test/test_labels.csv')"
   ]
  },
  {
   "cell_type": "code",
   "execution_count": 159,
   "id": "e3c07c56",
   "metadata": {
    "scrolled": false
   },
   "outputs": [],
   "source": [
    "X_train_df = pd.read_csv(FILE_PATH_TRAIN_FEATURES)\n",
    "Y_train_df = pd.read_csv(FILE_PATH_TRAIN_LABLES)\n",
    "\n",
    "X_test_df = pd.read_csv(FILE_PATH_TEST_FEATURES).iloc[:, 1:]\n",
    "Y_test_df = pd.read_csv(FILE_PATH_TEST_LABLES, header=None).iloc[1: , :]\n",
    "\n"
   ]
  },
  {
   "cell_type": "code",
   "execution_count": 160,
   "id": "216b4c50",
   "metadata": {
    "scrolled": false
   },
   "outputs": [],
   "source": [
    "X = np.array(X_train_df)\n",
    "Y = np.array(Y_train_df).transpose()[0]\n",
    "\n",
    "X_test = np.array(X_test_df)\n",
    "# For prediction\n",
    "Y_test = Y_test_df.transpose().to_numpy().tolist()[0]"
   ]
  },
  {
   "cell_type": "code",
   "execution_count": 161,
   "id": "00de4dbf",
   "metadata": {
    "scrolled": false
   },
   "outputs": [],
   "source": [
    "n_epochs_rbm = 2\n",
    "n_iter_backprop = 10"
   ]
  },
  {
   "cell_type": "code",
   "execution_count": 162,
   "id": "a7026647",
   "metadata": {
    "scrolled": false
   },
   "outputs": [],
   "source": [
    "classifier = SupervisedDBNClassification(hidden_layers_structure=[256, 256],\n",
    "                                         learning_rate_rbm=0.05,\n",
    "                                         learning_rate=0.1,\n",
    "                                         n_epochs_rbm=n_epochs_rbm,\n",
    "                                         n_iter_backprop=n_iter_backprop,\n",
    "                                         batch_size=32,\n",
    "                                         activation_function='relu',\n",
    "                                         dropout_p=0.2)\n",
    "\n"
   ]
  },
  {
   "cell_type": "code",
   "execution_count": 163,
   "id": "8bbde8c3",
   "metadata": {
    "scrolled": false
   },
   "outputs": [
    {
     "name": "stdout",
     "output_type": "stream",
     "text": [
      "loading model from: ../models/model_v1.pkl\n"
     ]
    }
   ],
   "source": [
    "if LOAD_MODEL:\n",
    "    print(f'loading model from: {MODEL_NAME}')\n",
    "    model = classifier.load(MODEL_NAME)\n",
    "else:\n",
    "    model = classifier.fit(X, Y)\n",
    "    print(f'saving model to: {MODEL_NAME}')\n",
    "    model.save(MODEL_NAME)\n"
   ]
  },
  {
   "cell_type": "code",
   "execution_count": 164,
   "id": "6128605f",
   "metadata": {},
   "outputs": [
    {
     "name": "stdout",
     "output_type": "stream",
     "text": [
      "Done.\n",
      "Accuracy: 0.804034\n"
     ]
    }
   ],
   "source": [
    "Y_pred = model.predict(X_test)\n",
    "\n",
    "\n",
    "print('Done.\\nAccuracy: %f' % accuracy_score(Y_test, Y_pred))\n",
    "\n"
   ]
  },
  {
   "cell_type": "code",
   "execution_count": 174,
   "id": "ac0a7617",
   "metadata": {},
   "outputs": [
    {
     "ename": "AttributeError",
     "evalue": "'list' object has no attribute 'shape'",
     "output_type": "error",
     "traceback": [
      "\u001b[0;31m---------------------------------------------------------------------------\u001b[0m",
      "\u001b[0;31mAttributeError\u001b[0m                            Traceback (most recent call last)",
      "Cell \u001b[0;32mIn[174], line 1\u001b[0m\n\u001b[0;32m----> 1\u001b[0m explainer \u001b[38;5;241m=\u001b[39m \u001b[43mshap\u001b[49m\u001b[38;5;241;43m.\u001b[39;49m\u001b[43mKernelExplainer\u001b[49m\u001b[43m(\u001b[49m\u001b[43mmodel\u001b[49m\u001b[38;5;241;43m.\u001b[39;49m\u001b[43mpredict\u001b[49m\u001b[43m,\u001b[49m\u001b[43m \u001b[49m\u001b[43mX\u001b[49m\u001b[43m)\u001b[49m\n",
      "File \u001b[0;32m~/.virtualenvs/dbn_nslkdd/lib/python3.9/site-packages/shap/explainers/_kernel.py:70\u001b[0m, in \u001b[0;36mKernel.__init__\u001b[0;34m(self, model, data, link, **kwargs)\u001b[0m\n\u001b[1;32m     68\u001b[0m \u001b[38;5;28mself\u001b[39m\u001b[38;5;241m.\u001b[39mkeep_index_ordered \u001b[38;5;241m=\u001b[39m kwargs\u001b[38;5;241m.\u001b[39mget(\u001b[38;5;124m\"\u001b[39m\u001b[38;5;124mkeep_index_ordered\u001b[39m\u001b[38;5;124m\"\u001b[39m, \u001b[38;5;28;01mFalse\u001b[39;00m)\n\u001b[1;32m     69\u001b[0m \u001b[38;5;28mself\u001b[39m\u001b[38;5;241m.\u001b[39mdata \u001b[38;5;241m=\u001b[39m convert_to_data(data, keep_index\u001b[38;5;241m=\u001b[39m\u001b[38;5;28mself\u001b[39m\u001b[38;5;241m.\u001b[39mkeep_index)\n\u001b[0;32m---> 70\u001b[0m model_null \u001b[38;5;241m=\u001b[39m \u001b[43mmatch_model_to_data\u001b[49m\u001b[43m(\u001b[49m\u001b[38;5;28;43mself\u001b[39;49m\u001b[38;5;241;43m.\u001b[39;49m\u001b[43mmodel\u001b[49m\u001b[43m,\u001b[49m\u001b[43m \u001b[49m\u001b[38;5;28;43mself\u001b[39;49m\u001b[38;5;241;43m.\u001b[39;49m\u001b[43mdata\u001b[49m\u001b[43m)\u001b[49m\n\u001b[1;32m     72\u001b[0m \u001b[38;5;66;03m# enforce our current input type limitations\u001b[39;00m\n\u001b[1;32m     73\u001b[0m \u001b[38;5;28;01massert\u001b[39;00m \u001b[38;5;28misinstance\u001b[39m(\u001b[38;5;28mself\u001b[39m\u001b[38;5;241m.\u001b[39mdata, DenseData) \u001b[38;5;129;01mor\u001b[39;00m \u001b[38;5;28misinstance\u001b[39m(\u001b[38;5;28mself\u001b[39m\u001b[38;5;241m.\u001b[39mdata, SparseData), \\\n\u001b[1;32m     74\u001b[0m        \u001b[38;5;124m\"\u001b[39m\u001b[38;5;124mShap explainer only supports the DenseData and SparseData input currently.\u001b[39m\u001b[38;5;124m\"\u001b[39m\n",
      "File \u001b[0;32m~/.virtualenvs/dbn_nslkdd/lib/python3.9/site-packages/shap/utils/_legacy.py:118\u001b[0m, in \u001b[0;36mmatch_model_to_data\u001b[0;34m(model, data)\u001b[0m\n\u001b[1;32m    115\u001b[0m     \u001b[38;5;28;01mraise\u001b[39;00m\n\u001b[1;32m    117\u001b[0m \u001b[38;5;28;01mif\u001b[39;00m model\u001b[38;5;241m.\u001b[39mout_names \u001b[38;5;129;01mis\u001b[39;00m \u001b[38;5;28;01mNone\u001b[39;00m:\n\u001b[0;32m--> 118\u001b[0m     \u001b[38;5;28;01mif\u001b[39;00m \u001b[38;5;28mlen\u001b[39m(\u001b[43mout_val\u001b[49m\u001b[38;5;241;43m.\u001b[39;49m\u001b[43mshape\u001b[49m) \u001b[38;5;241m==\u001b[39m \u001b[38;5;241m1\u001b[39m:\n\u001b[1;32m    119\u001b[0m         model\u001b[38;5;241m.\u001b[39mout_names \u001b[38;5;241m=\u001b[39m [\u001b[38;5;124m\"\u001b[39m\u001b[38;5;124moutput value\u001b[39m\u001b[38;5;124m\"\u001b[39m]\n\u001b[1;32m    120\u001b[0m     \u001b[38;5;28;01melse\u001b[39;00m:\n",
      "\u001b[0;31mAttributeError\u001b[0m: 'list' object has no attribute 'shape'"
     ]
    }
   ],
   "source": [
    "explainer = shap.KernelExplainer(model.predict, X)"
   ]
  },
  {
   "cell_type": "code",
   "execution_count": null,
   "id": "0eab9ffd",
   "metadata": {},
   "outputs": [],
   "source": []
  }
 ],
 "metadata": {
  "kernelspec": {
   "display_name": "Python 3 (ipykernel)",
   "language": "python",
   "name": "python3"
  },
  "language_info": {
   "codemirror_mode": {
    "name": "ipython",
    "version": 3
   },
   "file_extension": ".py",
   "mimetype": "text/x-python",
   "name": "python",
   "nbconvert_exporter": "python",
   "pygments_lexer": "ipython3",
   "version": "3.9.14"
  }
 },
 "nbformat": 4,
 "nbformat_minor": 5
}
