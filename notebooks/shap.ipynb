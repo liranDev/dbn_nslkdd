{
 "cells": [
  {
   "cell_type": "code",
   "execution_count": 1,
   "id": "431217be",
   "metadata": {},
   "outputs": [],
   "source": [
    "import shap\n",
    "import pandas as pd\n",
    "import numpy as np\n",
    "\n",
    "from pathlib import Path\n",
    "\n",
    "from xgboost import XGBClassifier"
   ]
  },
  {
   "cell_type": "code",
   "execution_count": 2,
   "id": "8be03413",
   "metadata": {},
   "outputs": [],
   "source": [
    "DATA_PATH = Path('..') / 'data'\n",
    "RAW_DATA_PATH = DATA_PATH / 'raw'\n",
    "PROCESSED_DATA_PATH = DATA_PATH / 'processed_v3'\n",
    "\n",
    "MODELS_PATH = Path('..') / 'models'"
   ]
  },
  {
   "cell_type": "code",
   "execution_count": 3,
   "id": "ec868779",
   "metadata": {},
   "outputs": [],
   "source": [
    "X_train = pd.read_csv(PROCESSED_DATA_PATH / 'X_train.csv')\n",
    "X_val   = pd.read_csv(PROCESSED_DATA_PATH / 'X_val.csv')\n",
    "y_train = pd.read_csv(PROCESSED_DATA_PATH / 'y_train.csv')\n",
    "y_val   = pd.read_csv(PROCESSED_DATA_PATH / 'y_val.csv')\n",
    "X_test  = pd.read_csv(PROCESSED_DATA_PATH / 'X_test.csv')\n",
    "y_test  = pd.read_csv(PROCESSED_DATA_PATH / 'y_test.csv')\n",
    "\n",
    "y_pred  = np.fromfile(PROCESSED_DATA_PATH / 'y_pred.npy')"
   ]
  },
  {
   "cell_type": "code",
   "execution_count": 4,
   "id": "9ff7b29c",
   "metadata": {},
   "outputs": [],
   "source": [
    "xgboost_model = XGBClassifier()\n",
    "\n",
    "xgboost_model.load_model(MODELS_PATH / 'xgboost_model.json')"
   ]
  },
  {
   "cell_type": "code",
   "execution_count": 24,
   "id": "1f9920b2",
   "metadata": {},
   "outputs": [],
   "source": [
    "X_train_for_shap = X_train.iloc[:22500,:]\n",
    "X_test_for_shap  = X_test.iloc[:22500,:]"
   ]
  },
  {
   "cell_type": "code",
   "execution_count": 25,
   "id": "4b6c1361",
   "metadata": {},
   "outputs": [],
   "source": [
    "explainer_train = shap.TreeExplainer(xgboost_model, X_train_for_shap)\n",
    "explainer_test  = shap.TreeExplainer(xgboost_model, X_test_for_shap)"
   ]
  },
  {
   "cell_type": "code",
   "execution_count": 26,
   "id": "96fce7df",
   "metadata": {},
   "outputs": [
    {
     "name": "stderr",
     "output_type": "stream",
     "text": [
      "100%|===================| 22481/22500 [01:11<00:00]        "
     ]
    }
   ],
   "source": [
    "shap_values_train = explainer_train.shap_values(X_train_for_shap)\n",
    "shap_values_test  = explainer_test.shap_values(X_test_for_shap)"
   ]
  },
  {
   "cell_type": "code",
   "execution_count": 27,
   "id": "86b2bdbf",
   "metadata": {},
   "outputs": [],
   "source": [
    "#shap.plots.bar(shap_values_train)\n",
    "#shap.summary_plot(shap_values_train, X_train_for_shap, plot_type=\"bar\")"
   ]
  },
  {
   "cell_type": "code",
   "execution_count": 28,
   "id": "c2a3cebb",
   "metadata": {},
   "outputs": [],
   "source": [
    "shap_values_train.tofile(PROCESSED_DATA_PATH / 'shap_values_train_from_xgboost.npy')\n",
    "shap_values_test.tofile(PROCESSED_DATA_PATH / 'shap_values_test_from_xgboost.npy')"
   ]
  }
 ],
 "metadata": {
  "kernelspec": {
   "display_name": "Python 3 (ipykernel)",
   "language": "python",
   "name": "python3"
  },
  "language_info": {
   "codemirror_mode": {
    "name": "ipython",
    "version": 3
   },
   "file_extension": ".py",
   "mimetype": "text/x-python",
   "name": "python",
   "nbconvert_exporter": "python",
   "pygments_lexer": "ipython3",
   "version": "3.9.14"
  }
 },
 "nbformat": 4,
 "nbformat_minor": 5
}
